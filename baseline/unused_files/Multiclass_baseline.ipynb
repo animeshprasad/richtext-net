{
 "cells": [
  {
   "cell_type": "code",
   "execution_count": 1,
   "metadata": {},
   "outputs": [
    {
     "name": "stderr",
     "output_type": "stream",
     "text": [
      "Using TensorFlow backend.\n",
      "/Users/sichenglei/Desktop/kaggle/salt/venv/lib/python3.6/importlib/_bootstrap.py:219: RuntimeWarning: numpy.dtype size changed, may indicate binary incompatibility. Expected 96, got 88\n",
      "  return f(*args, **kwds)\n",
      "\n",
      "Bad key \"ckend\" on line 1 in\n",
      "/Users/sichenglei/.matplotlib/matplotlibrc.\n",
      "You probably need to get an updated matplotlibrc file from\n",
      "http://github.com/matplotlib/matplotlib/blob/master/matplotlibrc.template\n",
      "or from the matplotlib source distribution\n",
      "/Users/sichenglei/Desktop/kaggle/salt/venv/lib/python3.6/importlib/_bootstrap.py:219: RuntimeWarning: numpy.dtype size changed, may indicate binary incompatibility. Expected 96, got 88\n",
      "  return f(*args, **kwds)\n"
     ]
    }
   ],
   "source": [
    "import keras \n",
    "from keras import layers\n",
    "from keras.layers import Embedding, Dropout, Dense, LSTM, Bidirectional, Input, Dense, Flatten\n",
    "from keras.models import Sequential, Model\n",
    "from keras.preprocessing.text import Tokenizer\n",
    "from keras.preprocessing.sequence import pad_sequences\n",
    "from sklearn.metrics import precision_recall_fscore_support as score\n",
    "from keras.callbacks import ModelCheckpoint, EarlyStopping\n",
    "import numpy as np \n",
    "from tqdm import tqdm_notebook as tqdm\n",
    "import json\n",
    "import pandas as pd \n",
    "import os"
   ]
  },
  {
   "cell_type": "code",
   "execution_count": 20,
   "metadata": {},
   "outputs": [],
   "source": [
    "def data_loader(file):\n",
    "    with open(file, 'r') as f:\n",
    "        sents = []\n",
    "        labels = []\n",
    "        for line in f:\n",
    "            line = line.strip().split()\n",
    "            labels.append(int(line[2]))\n",
    "            sents.append(' '.join(line[4:]))\n",
    "    return sents, labels"
   ]
  },
  {
   "cell_type": "code",
   "execution_count": 21,
   "metadata": {},
   "outputs": [],
   "source": [
    "train_sents, train_labels = data_loader(\"../../data/train.txt\")\n",
    "val_sents, val_labels = data_loader(\"../../data/validate.txt\")\n",
    "test_sents, test_labels = data_loader(\"../../data/test.txt\")"
   ]
  },
  {
   "cell_type": "code",
   "execution_count": 8,
   "metadata": {
    "scrolled": true
   },
   "outputs": [],
   "source": [
    "data_set = pd.read_json('../../../train_test/data_sets.json', encoding='utf-8')\n",
    "#note: dataset_id = index + 1\n",
    "data_description = data_set[\"description\"].values\n"
   ]
  },
  {
   "cell_type": "code",
   "execution_count": 9,
   "metadata": {},
   "outputs": [],
   "source": [
    "# Add a sentence for no mention case\n",
    "data_description = list(data_description)\n",
    "data_description.insert(0, \"There is no mention.\")"
   ]
  },
  {
   "cell_type": "code",
   "execution_count": 30,
   "metadata": {},
   "outputs": [],
   "source": [
    "maxlen = 100\n",
    "vocab_size = 40000 ##more than 80K unique tokens\n",
    "EMB_DIM = 50\n",
    "HIDDEN_DIM = 256\n",
    "EPOCHS = 5  ## train more epochs with GPU, it takes 1h per epoch on my CPU\n",
    "NEG_RATIO = 3\n",
    "BATCH_SIZE = 10\n",
    "DATASET_CLASS = len(data_description) \n",
    "MODEL_NAME = \"LSTM\"\n",
    "\n",
    "#actual batch size = BATCH_SIZE * (1 + NEG_RATIO)"
   ]
  },
  {
   "cell_type": "code",
   "execution_count": 26,
   "metadata": {},
   "outputs": [
    {
     "data": {
      "text/plain": [
       "10349"
      ]
     },
     "execution_count": 26,
     "metadata": {},
     "output_type": "execute_result"
    }
   ],
   "source": [
    "DATASET_CLASS"
   ]
  },
  {
   "cell_type": "code",
   "execution_count": 31,
   "metadata": {},
   "outputs": [
    {
     "name": "stdout",
     "output_type": "stream",
     "text": [
      "Found 45910 unique tokens.\n"
     ]
    }
   ],
   "source": [
    "###NOT using dataset info anymore\n",
    "tokenizer = Tokenizer()\n",
    "tokenizer.fit_on_texts(train_sents)\n",
    "X_train = tokenizer.texts_to_sequences(train_sents)\n",
    "X_val = tokenizer.texts_to_sequences(val_sents)\n",
    "X_test = tokenizer.texts_to_sequences(test_sents)\n",
    "\n",
    "word_index = tokenizer.word_index\n",
    "print (\"Found %s unique tokens.\"%len(word_index))"
   ]
  },
  {
   "cell_type": "code",
   "execution_count": 32,
   "metadata": {},
   "outputs": [],
   "source": [
    "X_train = pad_sequences(X_train, maxlen=maxlen)\n",
    "X_val = pad_sequences(X_val, maxlen=maxlen)\n",
    "X_test = pad_sequences(X_test, maxlen=maxlen)\n",
    "Y_train = np.asarray(train_labels)\n",
    "Y_val = np.asarray(val_labels)\n",
    "Y_test = np.asarray(test_labels)\n",
    "Y_train = keras.utils.to_categorical(Y_train, num_classes=DATASET_CLASS)\n",
    "Y_val = keras.utils.to_categorical(Y_val, num_classes=DATASET_CLASS)\n",
    "Y_test = keras.utils.to_categorical(Y_test, num_classes=DATASET_CLASS)"
   ]
  },
  {
   "cell_type": "code",
   "execution_count": 34,
   "metadata": {},
   "outputs": [],
   "source": [
    "##randomly shuffle data and labels\n",
    "##np.random.seed(0)\n",
    "N = X_train.shape[0]\n",
    "indices = np.arange(N)\n",
    "np.random.shuffle(indices)\n",
    "X_train = X_train[indices]\n",
    "Y_train = Y_train[indices] "
   ]
  },
  {
   "cell_type": "code",
   "execution_count": 35,
   "metadata": {},
   "outputs": [],
   "source": [
    "## I am not using Glove here, may get better results with Glove\n",
    "vocab_size = len(word_index) + 1\n",
    "def build_model():\n",
    "    embedding_layer = Embedding(vocab_size, EMB_DIM, input_length=maxlen)\n",
    "    article_input = Input(shape=(maxlen,), dtype='int32')\n",
    "    article_emb = embedding_layer(article_input)\n",
    "    \n",
    "    article_lstm = LSTM(HIDDEN_DIM, dropout=0.2, recurrent_dropout=0.3)\n",
    "    article_vector = article_lstm(article_emb)\n",
    "    #vector shape: (batch_size, hidden_dim)\n",
    "    \n",
    "    dense_vector = Dense(HIDDEN_DIM*4)(article_vector)\n",
    "    \n",
    "    dense_vector = Dropout(0.3)(dense_vector)\n",
    "    output = Dense(DATASET_CLASS)(dense_vector)\n",
    "    \n",
    "    model = Model(article_input, output)\n",
    "    model.compile(loss='categorical_crossentropy', optimizer='adam', metrics=['accuracy'])\n",
    "    return model \n"
   ]
  },
  {
   "cell_type": "code",
   "execution_count": 36,
   "metadata": {},
   "outputs": [],
   "source": [
    "model = build_model()"
   ]
  },
  {
   "cell_type": "code",
   "execution_count": 37,
   "metadata": {},
   "outputs": [
    {
     "name": "stdout",
     "output_type": "stream",
     "text": [
      "Train on 30208 samples, validate on 4196 samples\n",
      "Epoch 1/5\n",
      "30208/30208 [==============================] - 380s 13ms/step - loss: 9.9903 - acc: 0.0246 - val_loss: 8.3314 - val_acc: 0.0553\n",
      "Epoch 2/5\n",
      "30208/30208 [==============================] - 352s 12ms/step - loss: 13.0976 - acc: 0.0513 - val_loss: 15.9965 - val_acc: 0.0553\n",
      "Epoch 3/5\n",
      "30208/30208 [==============================] - 354s 12ms/step - loss: 16.0052 - acc: 0.0513 - val_loss: 15.9796 - val_acc: 0.0553\n",
      "Epoch 4/5\n",
      "30208/30208 [==============================] - 376s 12ms/step - loss: 15.9957 - acc: 0.0513 - val_loss: 15.9731 - val_acc: 0.0553\n",
      "Epoch 5/5\n",
      "30208/30208 [==============================] - 362s 12ms/step - loss: 15.9898 - acc: 0.0513 - val_loss: 15.9688 - val_acc: 0.0553\n"
     ]
    }
   ],
   "source": [
    "history = model.fit(X_train, Y_train, \n",
    "                    epochs=EPOCHS,\n",
    "                    batch_size=128,\n",
    "                    validation_data=(X_val, Y_val))"
   ]
  },
  {
   "cell_type": "code",
   "execution_count": 27,
   "metadata": {},
   "outputs": [],
   "source": [
    "model.save(\"baseline.h5\")"
   ]
  },
  {
   "cell_type": "code",
   "execution_count": 28,
   "metadata": {},
   "outputs": [
    {
     "data": {
      "image/png": "[encoded data removed]",
      "text/plain": [
       "<Figure size 432x288 with 1 Axes>"
      ]
     },
     "metadata": {},
     "output_type": "display_data"
    },
    {
     "data": {
      "image/png": "[encoded data removed]",
      "text/plain": [
       "<Figure size 432x288 with 1 Axes>"
      ]
     },
     "metadata": {},
     "output_type": "display_data"
    }
   ],
   "source": [
    "import matplotlib.pyplot as plt\n",
    "%matplotlib inline\n",
    "\n",
    "acc = history.history['acc']\n",
    "val_acc = history.history['val_acc']\n",
    "loss = history.history['loss']\n",
    "val_loss = history.history['val_loss']\n",
    "\n",
    "epochs = range(1, len(acc)+1)\n",
    "\n",
    "plt.plot(epochs, acc, 'r', label='Training accuracy')\n",
    "plt.plot(epochs, val_acc, 'b', label='Validation accuracy')\n",
    "plt.title('Training and validation accracy')\n",
    "plt.legend()\n",
    "\n",
    "plt.figure()\n",
    "\n",
    "plt.plot(epochs, loss, 'r', label='Training loss')\n",
    "plt.plot(epochs, val_loss, 'b', label='Validation loss')\n",
    "plt.title('Trianing and validation loss')\n",
    "plt.legend()\n",
    "\n",
    "plt.show()"
   ]
  },
  {
   "cell_type": "code",
   "execution_count": 38,
   "metadata": {},
   "outputs": [
    {
     "name": "stdout",
     "output_type": "stream",
     "text": [
      "3356/3356 [==============================] - 11s 3ms/step\n"
     ]
    },
    {
     "data": {
      "text/plain": [
       "[15.967442291996335, 0.05154946364719905]"
      ]
     },
     "execution_count": 38,
     "metadata": {},
     "output_type": "execute_result"
    }
   ],
   "source": [
    "model.evaluate(X_test, Y_test)"
   ]
  },
  {
   "cell_type": "code",
   "execution_count": null,
   "metadata": {},
   "outputs": [],
   "source": [
    "##test accuracy: 0.469 "
   ]
  }
 ],
 "metadata": {
  "kernelspec": {
   "display_name": "Python 3",
   "language": "python",
   "name": "python3"
  },
  "language_info": {
   "codemirror_mode": {
    "name": "ipython",
    "version": 3
   },
   "file_extension": ".py",
   "mimetype": "text/x-python",
   "name": "python",
   "nbconvert_exporter": "python",
   "pygments_lexer": "ipython3",
   "version": "3.6.3"
  }
 },
 "nbformat": 4,
 "nbformat_minor": 2
}
